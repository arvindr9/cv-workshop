{
  "nbformat": 4,
  "nbformat_minor": 0,
  "metadata": {
    "colab": {
      "name": "mnist_cnn.ipynb",
      "version": "0.3.2",
      "provenance": [],
      "collapsed_sections": []
    },
    "kernelspec": {
      "name": "python3",
      "display_name": "Python 3"
    },
    "accelerator": "GPU"
  },
  "cells": [
    {
      "metadata": {
        "id": "L-e3h37T--lt",
        "colab_type": "code",
        "colab": {}
      },
      "cell_type": "code",
      "source": [
        "from __future__ import print_function\n",
        "import keras\n",
        "from keras.datasets import mnist\n",
        "from keras.layers import Dense, Flatten\n",
        "from keras.layers import Conv2D, MaxPooling2D\n",
        "from keras.models import Sequential\n",
        "import matplotlib.pylab as plt"
      ],
      "execution_count": 0,
      "outputs": []
    },
    {
      "metadata": {
        "id": "abJuXo09O7oN",
        "colab_type": "code",
        "colab": {}
      },
      "cell_type": "code",
      "source": [
        "(x_train, y_train), (x_test, y_test) = mnist.load_data()"
      ],
      "execution_count": 0,
      "outputs": []
    },
    {
      "metadata": {
        "id": "00qSqAEV2EiF",
        "colab_type": "code",
        "colab": {
          "base_uri": "https://localhost:8080/",
          "height": 70
        },
        "outputId": "7f1c5f78-742c-4b72-81ef-ca2120095226"
      },
      "cell_type": "code",
      "source": [
        "print(\"Shape of x_train:\", x_train.shape)\n",
        "print(\"Size of train set:\", x_train.shape[0])\n",
        "print(\"Size of test set:\", x_test.shape[0])"
      ],
      "execution_count": 37,
      "outputs": [
        {
          "output_type": "stream",
          "text": [
            "Shape of x_train: (60000, 28, 28)\n",
            "Size of train set: 60000\n",
            "Size of test set: 10000\n"
          ],
          "name": "stdout"
        }
      ]
    },
    {
      "metadata": {
        "id": "fP10C5Vr2JIp",
        "colab_type": "code",
        "colab": {
          "base_uri": "https://localhost:8080/",
          "height": 364
        },
        "outputId": "1eb098fc-08ff-4af5-8eee-580721e2c43e"
      },
      "cell_type": "code",
      "source": [
        "plt.imshow(x_test[0].reshape(28, 28))\n",
        "print(y_test[0])"
      ],
      "execution_count": 38,
      "outputs": [
        {
          "output_type": "stream",
          "text": [
            "7\n"
          ],
          "name": "stdout"
        },
        {
          "output_type": "display_data",
          "data": {
            "image/png": "[encoded data removed]",
            "text/plain": [
              "<matplotlib.figure.Figure at 0x7f7cd15d13c8>"
            ]
          },
          "metadata": {
            "tags": []
          }
        }
      ]
    },
    {
      "metadata": {
        "id": "Eoy5YnFY2ziL",
        "colab_type": "code",
        "colab": {}
      },
      "cell_type": "code",
      "source": [
        "n_x = 28\n",
        "n_y = 28"
      ],
      "execution_count": 0,
      "outputs": []
    },
    {
      "metadata": {
        "id": "PInWAi_l3LZv",
        "colab_type": "code",
        "colab": {}
      },
      "cell_type": "code",
      "source": [
        "#(# of training examples, width, height, channels)\n",
        "x_train = x_train.reshape(x_train.shape[0], n_x, n_y, 1)\n",
        "x_test = x_test.reshape(x_test.shape[0], n_x, n_y, 1)"
      ],
      "execution_count": 0,
      "outputs": []
    },
    {
      "metadata": {
        "id": "s46NyGnt3ZwP",
        "colab_type": "code",
        "colab": {}
      },
      "cell_type": "code",
      "source": [
        "x_train = x_train.astype(\"float32\")\n",
        "x_test = x_test.astype(\"float32\")\n",
        "x_train /= 255\n",
        "x_test /= 255"
      ],
      "execution_count": 0,
      "outputs": []
    },
    {
      "metadata": {
        "id": "PvDfP-2s3cEW",
        "colab_type": "code",
        "colab": {}
      },
      "cell_type": "code",
      "source": [
        "num_classes = 10\n",
        "batch_size = 128\n",
        "epochs = 10"
      ],
      "execution_count": 0,
      "outputs": []
    },
    {
      "metadata": {
        "id": "0qChdM-Z3sKv",
        "colab_type": "code",
        "colab": {}
      },
      "cell_type": "code",
      "source": [
        "y_train = keras.utils.to_categorical(y_train, num_classes = 10)\n",
        "y_test = keras.utils.to_categorical(y_test, num_classes = 10)"
      ],
      "execution_count": 0,
      "outputs": []
    },
    {
      "metadata": {
        "id": "A_lmbRi_5TCQ",
        "colab_type": "code",
        "colab": {}
      },
      "cell_type": "code",
      "source": [
        "input_shape = (n_x, n_y, 1)"
      ],
      "execution_count": 0,
      "outputs": []
    },
    {
      "metadata": {
        "id": "gX3gTI6O4FtW",
        "colab_type": "code",
        "colab": {}
      },
      "cell_type": "code",
      "source": [
        "model = Sequential()\n",
        "model.add(Conv2D(32, kernel_size=(5, 5), strides=(1, 1),\n",
        "                 activation='relu',\n",
        "                 input_shape=input_shape))\n",
        "model.add(MaxPooling2D(pool_size=(2, 2), strides=(2, 2)))\n",
        "model.add(Conv2D(64, (5, 5), activation='relu'))\n",
        "model.add(MaxPooling2D(pool_size=(2, 2)))\n",
        "model.add(Flatten())\n",
        "model.add(Dense(1000, activation='relu'))\n",
        "model.add(Dense(num_classes, activation='softmax'))"
      ],
      "execution_count": 0,
      "outputs": []
    },
    {
      "metadata": {
        "id": "radMuZdJ4R3Z",
        "colab_type": "code",
        "colab": {}
      },
      "cell_type": "code",
      "source": [
        "model.compile(loss = keras.losses.categorical_crossentropy,\n",
        "             optimizer = keras.optimizers.SGD(lr = 0.01),\n",
        "              metrics = ['accuracy'])"
      ],
      "execution_count": 0,
      "outputs": []
    },
    {
      "metadata": {
        "id": "KHOsb-9J6v2S",
        "colab_type": "code",
        "colab": {}
      },
      "cell_type": "code",
      "source": [
        "class AccuracyHistory(keras.callbacks.Callback):\n",
        "    def on_train_begin(self, logs={}):\n",
        "        self.acc = []\n",
        "        self.val_acc = []\n",
        "\n",
        "    def on_epoch_end(self, batch, logs={}):\n",
        "        self.acc.append(logs.get('acc'))\n",
        "        self.val_acc.append(logs.get('val_acc'))\n",
        "\n",
        "history = AccuracyHistory()"
      ],
      "execution_count": 0,
      "outputs": []
    },
    {
      "metadata": {
        "id": "RMoPugi163At",
        "colab_type": "code",
        "colab": {
          "base_uri": "https://localhost:8080/",
          "height": 426
        },
        "outputId": "26fd1153-dce2-444d-9b7c-4a12643f6478"
      },
      "cell_type": "code",
      "source": [
        "print(x_train.shape, x_test.shape, y_train.shape, y_test.shape)\n",
        "model.fit(x_train, y_train,\n",
        "         batch_size = batch_size,\n",
        "         epochs = epochs,\n",
        "         verbose = 1,\n",
        "         validation_data = (x_test, y_test),\n",
        "         callbacks = [history])\n"
      ],
      "execution_count": 68,
      "outputs": [
        {
          "output_type": "stream",
          "text": [
            "(60000, 28, 28, 1) (10000, 28, 28, 1) (60000, 10) (10000, 10)\n",
            "Train on 60000 samples, validate on 10000 samples\n",
            "Epoch 1/10\n",
            "60000/60000 [==============================] - 6s 95us/step - loss: 0.0254 - acc: 0.9921 - val_loss: 0.0336 - val_acc: 0.9895\n",
            "Epoch 2/10\n",
            "60000/60000 [==============================] - 6s 95us/step - loss: 0.0246 - acc: 0.9928 - val_loss: 0.0394 - val_acc: 0.9875\n",
            "Epoch 3/10\n",
            "60000/60000 [==============================] - 6s 94us/step - loss: 0.0237 - acc: 0.9929 - val_loss: 0.0316 - val_acc: 0.9890\n",
            "Epoch 4/10\n",
            "60000/60000 [==============================] - 6s 94us/step - loss: 0.0230 - acc: 0.9933 - val_loss: 0.0326 - val_acc: 0.9903\n",
            "Epoch 5/10\n",
            "60000/60000 [==============================] - 6s 94us/step - loss: 0.0220 - acc: 0.9936 - val_loss: 0.0325 - val_acc: 0.9900\n",
            "Epoch 6/10\n",
            "60000/60000 [==============================] - 6s 94us/step - loss: 0.0211 - acc: 0.9939 - val_loss: 0.0330 - val_acc: 0.9896\n",
            "Epoch 7/10\n",
            "60000/60000 [==============================] - 6s 95us/step - loss: 0.0209 - acc: 0.9938 - val_loss: 0.0374 - val_acc: 0.9877\n",
            "Epoch 8/10\n",
            "60000/60000 [==============================] - 6s 94us/step - loss: 0.0201 - acc: 0.9941 - val_loss: 0.0346 - val_acc: 0.9888\n",
            "Epoch 9/10\n",
            "60000/60000 [==============================] - 6s 94us/step - loss: 0.0195 - acc: 0.9943 - val_loss: 0.0311 - val_acc: 0.9901\n",
            "Epoch 10/10\n",
            "60000/60000 [==============================] - 6s 95us/step - loss: 0.0188 - acc: 0.9946 - val_loss: 0.0311 - val_acc: 0.9896\n"
          ],
          "name": "stdout"
        },
        {
          "output_type": "execute_result",
          "data": {
            "text/plain": [
              "<keras.callbacks.History at 0x7f7cd1cbd630>"
            ]
          },
          "metadata": {
            "tags": []
          },
          "execution_count": 68
        }
      ]
    },
    {
      "metadata": {
        "id": "N8nE0tIh7YRY",
        "colab_type": "code",
        "colab": {}
      },
      "cell_type": "code",
      "source": [
        "score = model.evaluate(x_test, y_test, verbose = 0)"
      ],
      "execution_count": 0,
      "outputs": []
    },
    {
      "metadata": {
        "id": "xSYVx-sp88ts",
        "colab_type": "code",
        "colab": {
          "base_uri": "https://localhost:8080/",
          "height": 35
        },
        "outputId": "068475f6-610a-4320-9658-0c77eb2845c4"
      },
      "cell_type": "code",
      "source": [
        "score"
      ],
      "execution_count": 70,
      "outputs": [
        {
          "output_type": "execute_result",
          "data": {
            "text/plain": [
              "[0.03108066888800822, 0.9896]"
            ]
          },
          "metadata": {
            "tags": []
          },
          "execution_count": 70
        }
      ]
    },
    {
      "metadata": {
        "id": "EOWITZDv91HB",
        "colab_type": "code",
        "colab": {
          "base_uri": "https://localhost:8080/",
          "height": 400
        },
        "outputId": "4efc8de8-1d8d-4b51-ddc2-e08654fc2e92"
      },
      "cell_type": "code",
      "source": [
        "plt.imshow(x_train[0].reshape(28, 28))\n",
        "print(y_train[0])\n",
        "print(model.predict(x_train)[0])"
      ],
      "execution_count": 71,
      "outputs": [
        {
          "output_type": "stream",
          "text": [
            "[0. 0. 0. 0. 0. 1. 0. 0. 0. 0.]\n",
            "[4.9279223e-11 1.6698354e-09 2.6637925e-09 1.9091523e-03 7.0872755e-16\n",
            " 9.9809068e-01 3.9706343e-14 7.4999598e-09 2.2752673e-08 6.1235923e-08]\n"
          ],
          "name": "stdout"
        },
        {
          "output_type": "display_data",
          "data": {
            "image/png": "[encoded data removed]",
            "text/plain": [
              "<matplotlib.figure.Figure at 0x7f7d04b62cc0>"
            ]
          },
          "metadata": {
            "tags": []
          }
        }
      ]
    },
    {
      "metadata": {
        "id": "Mz0crUlGAKlG",
        "colab_type": "code",
        "colab": {
          "base_uri": "https://localhost:8080/",
          "height": 414
        },
        "outputId": "80d4127e-9652-4aed-e3a4-574e39eb657d"
      },
      "cell_type": "code",
      "source": [
        "print(history.acc)\n",
        "print(history.val_acc)\n",
        "plt.plot(range(1, 11), history.acc)\n",
        "plt.plot(range(1, 11), history.val_acc)\n",
        "plt.xlabel('Epoch')\n",
        "plt.ylabel('Accuracy')"
      ],
      "execution_count": 74,
      "outputs": [
        {
          "output_type": "stream",
          "text": [
            "[0.9920666666348775, 0.9927666666984558, 0.9929499999682109, 0.99335, 0.9936333333015442, 0.9939, 0.9937666666666667, 0.9941166666666666, 0.9943166666666666, 0.9945833333333334]\n",
            "[0.9895, 0.9875, 0.989, 0.9903, 0.99, 0.9896, 0.9877, 0.9888, 0.9901, 0.9896]\n"
          ],
          "name": "stdout"
        },
        {
          "output_type": "execute_result",
          "data": {
            "text/plain": [
              "Text(0,0.5,'Accuracy')"
            ]
          },
          "metadata": {
            "tags": []
          },
          "execution_count": 74
        },
        {
          "output_type": "display_data",
          "data": {
            "image/png": "[encoded data removed]",
            "text/plain": [
              "<matplotlib.figure.Figure at 0x7f7d04b62390>"
            ]
          },
          "metadata": {
            "tags": []
          }
        }
      ]
    },
    {
      "metadata": {
        "id": "9hLuLdYKAXGI",
        "colab_type": "code",
        "colab": {}
      },
      "cell_type": "code",
      "source": [
        ""
      ],
      "execution_count": 0,
      "outputs": []
    }
  ]
}